{
 "cells": [
  {
   "cell_type": "markdown",
   "metadata": {},
   "source": [
    "# Import des librairies"
   ]
  },
  {
   "cell_type": "code",
   "execution_count": 1,
   "metadata": {},
   "outputs": [],
   "source": [
    "import numpy as np\n",
    "import pandas as pd\n",
    "from math import *\n",
    "from sklearn.impute import KNNImputer\n"
   ]
  },
  {
   "cell_type": "markdown",
   "metadata": {},
   "source": [
    "# Import et traitement de la table BUREAU"
   ]
  },
  {
   "cell_type": "markdown",
   "metadata": {},
   "source": [
    "# I - Import de la table BUREAU"
   ]
  },
  {
   "cell_type": "code",
   "execution_count": 2,
   "metadata": {},
   "outputs": [],
   "source": [
    "dt_bureau = pd.read_csv(\"Data_Base/bureau.csv\", header = 0, sep = ',')\n",
    "dt_bureau = dt_bureau[['SK_ID_CURR', 'SK_ID_BUREAU','CREDIT_ACTIVE', 'CNT_CREDIT_PROLONG', 'AMT_CREDIT_SUM']]"
   ]
  },
  {
   "cell_type": "code",
   "execution_count": 3,
   "metadata": {},
   "outputs": [],
   "source": [
    "dt_bureau_copie = dt_bureau"
   ]
  },
  {
   "cell_type": "code",
   "execution_count": 4,
   "metadata": {},
   "outputs": [
    {
     "data": {
      "text/html": [
       "<div>\n",
       "<style scoped>\n",
       "    .dataframe tbody tr th:only-of-type {\n",
       "        vertical-align: middle;\n",
       "    }\n",
       "\n",
       "    .dataframe tbody tr th {\n",
       "        vertical-align: top;\n",
       "    }\n",
       "\n",
       "    .dataframe thead th {\n",
       "        text-align: right;\n",
       "    }\n",
       "</style>\n",
       "<table border=\"1\" class=\"dataframe\">\n",
       "  <thead>\n",
       "    <tr style=\"text-align: right;\">\n",
       "      <th></th>\n",
       "      <th>SK_ID_CURR</th>\n",
       "      <th>SK_ID_BUREAU</th>\n",
       "      <th>CREDIT_ACTIVE</th>\n",
       "      <th>CNT_CREDIT_PROLONG</th>\n",
       "      <th>AMT_CREDIT_SUM</th>\n",
       "    </tr>\n",
       "  </thead>\n",
       "  <tbody>\n",
       "    <tr>\n",
       "      <th>0</th>\n",
       "      <td>215354</td>\n",
       "      <td>5714462</td>\n",
       "      <td>Closed</td>\n",
       "      <td>0</td>\n",
       "      <td>91323.00</td>\n",
       "    </tr>\n",
       "    <tr>\n",
       "      <th>1</th>\n",
       "      <td>215354</td>\n",
       "      <td>5714463</td>\n",
       "      <td>Active</td>\n",
       "      <td>0</td>\n",
       "      <td>225000.00</td>\n",
       "    </tr>\n",
       "    <tr>\n",
       "      <th>2</th>\n",
       "      <td>215354</td>\n",
       "      <td>5714464</td>\n",
       "      <td>Active</td>\n",
       "      <td>0</td>\n",
       "      <td>464323.50</td>\n",
       "    </tr>\n",
       "    <tr>\n",
       "      <th>3</th>\n",
       "      <td>215354</td>\n",
       "      <td>5714465</td>\n",
       "      <td>Active</td>\n",
       "      <td>0</td>\n",
       "      <td>90000.00</td>\n",
       "    </tr>\n",
       "    <tr>\n",
       "      <th>4</th>\n",
       "      <td>215354</td>\n",
       "      <td>5714466</td>\n",
       "      <td>Active</td>\n",
       "      <td>0</td>\n",
       "      <td>2700000.00</td>\n",
       "    </tr>\n",
       "    <tr>\n",
       "      <th>...</th>\n",
       "      <td>...</td>\n",
       "      <td>...</td>\n",
       "      <td>...</td>\n",
       "      <td>...</td>\n",
       "      <td>...</td>\n",
       "    </tr>\n",
       "    <tr>\n",
       "      <th>1716423</th>\n",
       "      <td>259355</td>\n",
       "      <td>5057750</td>\n",
       "      <td>Active</td>\n",
       "      <td>0</td>\n",
       "      <td>11250.00</td>\n",
       "    </tr>\n",
       "    <tr>\n",
       "      <th>1716424</th>\n",
       "      <td>100044</td>\n",
       "      <td>5057754</td>\n",
       "      <td>Closed</td>\n",
       "      <td>0</td>\n",
       "      <td>38130.84</td>\n",
       "    </tr>\n",
       "    <tr>\n",
       "      <th>1716425</th>\n",
       "      <td>100044</td>\n",
       "      <td>5057762</td>\n",
       "      <td>Closed</td>\n",
       "      <td>0</td>\n",
       "      <td>15570.00</td>\n",
       "    </tr>\n",
       "    <tr>\n",
       "      <th>1716426</th>\n",
       "      <td>246829</td>\n",
       "      <td>5057770</td>\n",
       "      <td>Closed</td>\n",
       "      <td>0</td>\n",
       "      <td>36000.00</td>\n",
       "    </tr>\n",
       "    <tr>\n",
       "      <th>1716427</th>\n",
       "      <td>246829</td>\n",
       "      <td>5057778</td>\n",
       "      <td>Closed</td>\n",
       "      <td>0</td>\n",
       "      <td>22500.00</td>\n",
       "    </tr>\n",
       "  </tbody>\n",
       "</table>\n",
       "<p>1716428 rows × 5 columns</p>\n",
       "</div>"
      ],
      "text/plain": [
       "         SK_ID_CURR  SK_ID_BUREAU CREDIT_ACTIVE  CNT_CREDIT_PROLONG  \\\n",
       "0            215354       5714462        Closed                   0   \n",
       "1            215354       5714463        Active                   0   \n",
       "2            215354       5714464        Active                   0   \n",
       "3            215354       5714465        Active                   0   \n",
       "4            215354       5714466        Active                   0   \n",
       "...             ...           ...           ...                 ...   \n",
       "1716423      259355       5057750        Active                   0   \n",
       "1716424      100044       5057754        Closed                   0   \n",
       "1716425      100044       5057762        Closed                   0   \n",
       "1716426      246829       5057770        Closed                   0   \n",
       "1716427      246829       5057778        Closed                   0   \n",
       "\n",
       "         AMT_CREDIT_SUM  \n",
       "0              91323.00  \n",
       "1             225000.00  \n",
       "2             464323.50  \n",
       "3              90000.00  \n",
       "4            2700000.00  \n",
       "...                 ...  \n",
       "1716423        11250.00  \n",
       "1716424        38130.84  \n",
       "1716425        15570.00  \n",
       "1716426        36000.00  \n",
       "1716427        22500.00  \n",
       "\n",
       "[1716428 rows x 5 columns]"
      ]
     },
     "execution_count": 4,
     "metadata": {},
     "output_type": "execute_result"
    }
   ],
   "source": [
    "dt_bureau"
   ]
  },
  {
   "cell_type": "markdown",
   "metadata": {},
   "source": [
    "# II - Analyse des données brutes"
   ]
  },
  {
   "cell_type": "markdown",
   "metadata": {},
   "source": [
    "## Analyse des valeurs uniques de chaque colonnes"
   ]
  },
  {
   "cell_type": "markdown",
   "metadata": {},
   "source": [
    "#### Analyse globale"
   ]
  },
  {
   "cell_type": "code",
   "execution_count": 5,
   "metadata": {},
   "outputs": [
    {
     "data": {
      "text/html": [
       "<div>\n",
       "<style scoped>\n",
       "    .dataframe tbody tr th:only-of-type {\n",
       "        vertical-align: middle;\n",
       "    }\n",
       "\n",
       "    .dataframe tbody tr th {\n",
       "        vertical-align: top;\n",
       "    }\n",
       "\n",
       "    .dataframe thead th {\n",
       "        text-align: right;\n",
       "    }\n",
       "</style>\n",
       "<table border=\"1\" class=\"dataframe\">\n",
       "  <thead>\n",
       "    <tr style=\"text-align: right;\">\n",
       "      <th></th>\n",
       "      <th>SK_ID_CURR</th>\n",
       "      <th>SK_ID_BUREAU</th>\n",
       "      <th>CNT_CREDIT_PROLONG</th>\n",
       "      <th>AMT_CREDIT_SUM</th>\n",
       "    </tr>\n",
       "  </thead>\n",
       "  <tbody>\n",
       "    <tr>\n",
       "      <th>count</th>\n",
       "      <td>1.716428e+06</td>\n",
       "      <td>1.716428e+06</td>\n",
       "      <td>1.716428e+06</td>\n",
       "      <td>1.716415e+06</td>\n",
       "    </tr>\n",
       "    <tr>\n",
       "      <th>mean</th>\n",
       "      <td>2.782149e+05</td>\n",
       "      <td>5.924434e+06</td>\n",
       "      <td>6.410406e-03</td>\n",
       "      <td>3.549946e+05</td>\n",
       "    </tr>\n",
       "    <tr>\n",
       "      <th>std</th>\n",
       "      <td>1.029386e+05</td>\n",
       "      <td>5.322657e+05</td>\n",
       "      <td>9.622391e-02</td>\n",
       "      <td>1.149811e+06</td>\n",
       "    </tr>\n",
       "    <tr>\n",
       "      <th>min</th>\n",
       "      <td>1.000010e+05</td>\n",
       "      <td>5.000000e+06</td>\n",
       "      <td>0.000000e+00</td>\n",
       "      <td>0.000000e+00</td>\n",
       "    </tr>\n",
       "    <tr>\n",
       "      <th>25%</th>\n",
       "      <td>1.888668e+05</td>\n",
       "      <td>5.463954e+06</td>\n",
       "      <td>0.000000e+00</td>\n",
       "      <td>5.130000e+04</td>\n",
       "    </tr>\n",
       "    <tr>\n",
       "      <th>50%</th>\n",
       "      <td>2.780550e+05</td>\n",
       "      <td>5.926304e+06</td>\n",
       "      <td>0.000000e+00</td>\n",
       "      <td>1.255185e+05</td>\n",
       "    </tr>\n",
       "    <tr>\n",
       "      <th>75%</th>\n",
       "      <td>3.674260e+05</td>\n",
       "      <td>6.385681e+06</td>\n",
       "      <td>0.000000e+00</td>\n",
       "      <td>3.150000e+05</td>\n",
       "    </tr>\n",
       "    <tr>\n",
       "      <th>max</th>\n",
       "      <td>4.562550e+05</td>\n",
       "      <td>6.843457e+06</td>\n",
       "      <td>9.000000e+00</td>\n",
       "      <td>5.850000e+08</td>\n",
       "    </tr>\n",
       "  </tbody>\n",
       "</table>\n",
       "</div>"
      ],
      "text/plain": [
       "         SK_ID_CURR  SK_ID_BUREAU  CNT_CREDIT_PROLONG  AMT_CREDIT_SUM\n",
       "count  1.716428e+06  1.716428e+06        1.716428e+06    1.716415e+06\n",
       "mean   2.782149e+05  5.924434e+06        6.410406e-03    3.549946e+05\n",
       "std    1.029386e+05  5.322657e+05        9.622391e-02    1.149811e+06\n",
       "min    1.000010e+05  5.000000e+06        0.000000e+00    0.000000e+00\n",
       "25%    1.888668e+05  5.463954e+06        0.000000e+00    5.130000e+04\n",
       "50%    2.780550e+05  5.926304e+06        0.000000e+00    1.255185e+05\n",
       "75%    3.674260e+05  6.385681e+06        0.000000e+00    3.150000e+05\n",
       "max    4.562550e+05  6.843457e+06        9.000000e+00    5.850000e+08"
      ]
     },
     "execution_count": 5,
     "metadata": {},
     "output_type": "execute_result"
    }
   ],
   "source": [
    "dt_bureau.describe()"
   ]
  },
  {
   "cell_type": "code",
   "execution_count": 6,
   "metadata": {
    "scrolled": true
   },
   "outputs": [
    {
     "name": "stdout",
     "output_type": "stream",
     "text": [
      "colonne SK_ID_CURR : [215354 162297 402440 ... 448157 345866 235871]\n",
      "\n",
      "colonne SK_ID_BUREAU : [5714462 5714463 5714464 ... 5057762 5057770 5057778]\n",
      "\n",
      "colonne CREDIT_ACTIVE : ['Closed' 'Active' 'Sold' 'Bad debt']\n",
      "\n",
      "colonne CNT_CREDIT_PROLONG : [0 2 1 4 3 5 9 8 6 7]\n",
      "\n",
      "colonne AMT_CREDIT_SUM : [ 91323.   225000.   464323.5  ...  77861.43 112204.35 108765.72]\n",
      "\n"
     ]
    }
   ],
   "source": [
    "dt_columns = dt_bureau.columns.values.tolist()\n",
    "\n",
    "for i in dt_columns :\n",
    "    print(f'colonne {i} : {dt_bureau[i].unique()}\\n')"
   ]
  },
  {
   "cell_type": "markdown",
   "metadata": {},
   "source": [
    "#### Analyse des valeurs diverses"
   ]
  },
  {
   "cell_type": "code",
   "execution_count": 7,
   "metadata": {
    "scrolled": true
   },
   "outputs": [
    {
     "name": "stdout",
     "output_type": "stream",
     "text": [
      "Nb incompatible data per column :\n",
      "\n",
      "CNT_CREDIT_PROLONG :\n",
      "\t -> MIN : 0.0\n",
      "\t -> MAX : 9.0\n",
      "\n",
      "-------------------------\n",
      "\n",
      "AMT_CREDIT_SUM :\n",
      "\t -> MIN : 0.0\n",
      "\t -> MAX : 585000000.0\n",
      "\n",
      "-------------------------\n",
      "\n"
     ]
    }
   ],
   "source": [
    "columns_to_inspect = ['CNT_CREDIT_PROLONG','AMT_CREDIT_SUM']\n",
    "\n",
    "print(f'Nb incompatible data per column :\\n')\n",
    "\n",
    "#for i in dt_columns_inspect :\n",
    "  \n",
    "analyse = dt_bureau[columns_to_inspect].describe()\n",
    "\n",
    "for i in columns_to_inspect :\n",
    "    \n",
    "    print(f\"{i} :\")\n",
    "    print(f\"\\t -> MIN : {analyse[i]['min']}\")\n",
    "    print(f\"\\t -> MAX : {analyse[i]['max']}\")\n",
    "    print(f\"\\n-------------------------\\n\")"
   ]
  },
  {
   "cell_type": "markdown",
   "metadata": {},
   "source": [
    "#### Analyse des NaN"
   ]
  },
  {
   "cell_type": "code",
   "execution_count": 8,
   "metadata": {
    "scrolled": false
   },
   "outputs": [
    {
     "name": "stdout",
     "output_type": "stream",
     "text": [
      "1 colonnes contient au moins un 'NaN' :\n"
     ]
    },
    {
     "data": {
      "text/html": [
       "<div>\n",
       "<style scoped>\n",
       "    .dataframe tbody tr th:only-of-type {\n",
       "        vertical-align: middle;\n",
       "    }\n",
       "\n",
       "    .dataframe tbody tr th {\n",
       "        vertical-align: top;\n",
       "    }\n",
       "\n",
       "    .dataframe thead th {\n",
       "        text-align: right;\n",
       "    }\n",
       "</style>\n",
       "<table border=\"1\" class=\"dataframe\">\n",
       "  <thead>\n",
       "    <tr style=\"text-align: right;\">\n",
       "      <th></th>\n",
       "      <th>Feature</th>\n",
       "      <th>Nb_NaN</th>\n",
       "    </tr>\n",
       "  </thead>\n",
       "  <tbody>\n",
       "    <tr>\n",
       "      <th>0</th>\n",
       "      <td>AMT_CREDIT_SUM</td>\n",
       "      <td>13</td>\n",
       "    </tr>\n",
       "  </tbody>\n",
       "</table>\n",
       "</div>"
      ],
      "text/plain": [
       "          Feature  Nb_NaN\n",
       "0  AMT_CREDIT_SUM      13"
      ]
     },
     "execution_count": 8,
     "metadata": {},
     "output_type": "execute_result"
    }
   ],
   "source": [
    "dt_columns = dt_bureau.columns\n",
    "\n",
    "incomplet_data = 0\n",
    "\n",
    "column_with_nan = []\n",
    "tab_count_nan = []\n",
    "\n",
    "for i in dt_columns :\n",
    "    verif = dt_bureau[i].isna().sum()\n",
    "    if verif != 0 :\n",
    "        column_with_nan.append(i)\n",
    "        tab_count_nan.append(dt_bureau[i].isna().sum())\n",
    "        \n",
    "    incomplet_data += dt_bureau[i].isna().sum()\n",
    "\n",
    "nan_analysis = pd.DataFrame({'Feature' : column_with_nan ,  'Nb_NaN' : tab_count_nan})\n",
    "\n",
    "print(f\"{len(column_with_nan)} colonnes contient au moins un 'NaN' :\")\n",
    "\n",
    "nan_analysis"
   ]
  },
  {
   "cell_type": "code",
   "execution_count": 9,
   "metadata": {},
   "outputs": [
    {
     "name": "stdout",
     "output_type": "stream",
     "text": [
      "Total Data = 8582140\n",
      "Missing Data = 13\n",
      "Missing Data Rate = 0.0 %\n"
     ]
    }
   ],
   "source": [
    "total_info = len(dt_bureau['SK_ID_CURR']) * len(dt_columns)\n",
    "\n",
    "print(f\"Total Data = {total_info}\")\n",
    "print(f\"Missing Data = {incomplet_data}\")\n",
    "print(f\"Missing Data Rate = {round( (incomplet_data / total_info),2) * 100} %\")"
   ]
  },
  {
   "cell_type": "markdown",
   "metadata": {},
   "source": [
    "### Résultats de l'analyse :"
   ]
  },
  {
   "cell_type": "markdown",
   "metadata": {},
   "source": [
    "- La colonne CREDIT_ACTIVE doit être mise à plat\n",
    "\n",
    "\n",
    "- Les NaN sont à traiter\n",
    "\n",
    "\n",
    "- Créations de nouvelles colonnes :\n",
    "    * Total de crédits précédent le crédit actuel\n",
    "    * Nombre de crédits terminés\n",
    "    * Nombre de crédits en cours\n",
    "    * Somme total des crédits terminés\n",
    "    * Somme total des crédits en cours\n",
    "    * Derière date du dernier crédit accordés\n",
    "    * Somme du dernier crédit\n",
    "    * Etat du dernier crédit"
   ]
  },
  {
   "cell_type": "markdown",
   "metadata": {},
   "source": [
    "# III - Nettoyage des données"
   ]
  },
  {
   "cell_type": "markdown",
   "metadata": {},
   "source": [
    "### Récupération des colonnes à reformer"
   ]
  },
  {
   "cell_type": "code",
   "execution_count": 10,
   "metadata": {},
   "outputs": [
    {
     "data": {
      "text/plain": [
       "['CREDIT_ACTIVE']"
      ]
     },
     "execution_count": 10,
     "metadata": {},
     "output_type": "execute_result"
    }
   ],
   "source": [
    "# récupération des colonnes à reformer\n",
    "colonne_reform = []\n",
    "\n",
    "columnes_with_str = dt_bureau.columns\n",
    "\n",
    "for i in columnes_with_str :\n",
    "    cran = 1\n",
    "    while cran != 0 :\n",
    "        if dt_bureau[i][0] != np.nan :\n",
    "            cran = 0\n",
    "            if type(dt_bureau[i][0]) == str :\n",
    "                colonne_reform.append(i)\n",
    "\n",
    "colonne_reform"
   ]
  },
  {
   "cell_type": "markdown",
   "metadata": {},
   "source": [
    "### Création d'un dictionnaire"
   ]
  },
  {
   "cell_type": "code",
   "execution_count": 11,
   "metadata": {},
   "outputs": [
    {
     "data": {
      "text/plain": [
       "[['CREDIT_ACTIVE', 'Closed', 'Active', 'Sold', 'Bad debt']]"
      ]
     },
     "execution_count": 11,
     "metadata": {},
     "output_type": "execute_result"
    }
   ],
   "source": [
    "longest_list = 0\n",
    "\n",
    "\n",
    "# récupération du plus grand nombre de valeurs uniques présent dans une colonne \n",
    "for i in colonne_reform :\n",
    "    if len(dt_bureau[i].unique()) > longest_list :\n",
    "        longest_list = len(dt_bureau[i].unique())\n",
    "\n",
    "\n",
    "# création d'un tableau de sauvegarde des colonnes contenant des valeurs uniques de type \"chaine de caractères\"      \n",
    "values_save = [[''] * (longest_list+1) for x in range(len(colonne_reform))]\n",
    "\n",
    "# remplissage du tableau de sauvegarde\n",
    "for i in range (len(colonne_reform)) :\n",
    "    \n",
    "    values_save[i][0] = colonne_reform[i]\n",
    "    \n",
    "    valeurs_uniques = dt_bureau[colonne_reform[i]].unique()\n",
    "    \n",
    "    j = 1\n",
    "    diff = 1\n",
    "        \n",
    "    for j in range (len(valeurs_uniques)) :\n",
    "   \n",
    "        if type(valeurs_uniques[j]) == str :\n",
    "            values_save[i][j+diff] = valeurs_uniques[j]\n",
    "        else :\n",
    "            diff -= 1\n",
    "        \n",
    "\n",
    "values_save"
   ]
  },
  {
   "cell_type": "markdown",
   "metadata": {},
   "source": [
    "##### Transformation des chaines de caractère en équivalent de type integer"
   ]
  },
  {
   "cell_type": "code",
   "execution_count": 12,
   "metadata": {},
   "outputs": [],
   "source": [
    "for i in range (len(values_save)) :\n",
    "    for j in range (len(values_save[i])) :\n",
    "        dt_bureau[values_save[i][0]] = dt_bureau[values_save[i][0]].replace(values_save[i][j], j)"
   ]
  },
  {
   "cell_type": "markdown",
   "metadata": {},
   "source": [
    "## Traitement des NaN"
   ]
  },
  {
   "cell_type": "markdown",
   "metadata": {},
   "source": [
    "### Récupération des featurs avec NaN"
   ]
  },
  {
   "cell_type": "markdown",
   "metadata": {},
   "source": [
    "REMARQUE : on sélectionne toutes les données parce que nous n'avons pas beaucoup de colonnes et pas beaucoup de NaN, ça ne sert à rien de perdre du temps et de la ressource de calcul à effectuer des étapes non essentielles"
   ]
  },
  {
   "cell_type": "code",
   "execution_count": 13,
   "metadata": {},
   "outputs": [],
   "source": [
    "X_with_NaN = dt_bureau.drop(['SK_ID_CURR', 'SK_ID_BUREAU'], axis = 1)"
   ]
  },
  {
   "cell_type": "markdown",
   "metadata": {},
   "source": [
    "### Application du KNNImputer"
   ]
  },
  {
   "cell_type": "code",
   "execution_count": 14,
   "metadata": {},
   "outputs": [],
   "source": [
    "imputer = KNNImputer(n_neighbors = 5)\n",
    "        \n",
    "X_without_nan = imputer.fit_transform(X_with_NaN)\n",
    "        \n",
    "df_result = pd.DataFrame(X_without_nan,columns=X_with_NaN.columns)"
   ]
  },
  {
   "cell_type": "markdown",
   "metadata": {},
   "source": [
    "### Récupération de la colonne concernée par la réctification des NaN "
   ]
  },
  {
   "cell_type": "code",
   "execution_count": 15,
   "metadata": {},
   "outputs": [],
   "source": [
    "columns_with_NA = []\n",
    "for i in nan_analysis['Feature'] :\n",
    "    columns_with_NA.append(i)\n",
    "\n",
    "df_result = df_result[columns_with_NA]"
   ]
  },
  {
   "cell_type": "markdown",
   "metadata": {},
   "source": [
    "### Unification de la donnée Finale"
   ]
  },
  {
   "cell_type": "markdown",
   "metadata": {},
   "source": [
    "#### Retrait des anciennes colonnes avec NaN"
   ]
  },
  {
   "cell_type": "code",
   "execution_count": 16,
   "metadata": {},
   "outputs": [],
   "source": [
    "columnt_to_delet = df_result.columns.values.tolist()\n",
    "dt_bureau = dt_bureau.drop(columnt_to_delet, axis = 1)"
   ]
  },
  {
   "cell_type": "markdown",
   "metadata": {},
   "source": [
    "#### Construction d'une colonnes de jointure dans la table des résultats de traitement des NaN"
   ]
  },
  {
   "cell_type": "code",
   "execution_count": 17,
   "metadata": {},
   "outputs": [],
   "source": [
    "index_id_bureau = []\n",
    "\n",
    "for i in dt_bureau['SK_ID_BUREAU']:\n",
    "    index_id_bureau.append(i)\n",
    "    \n",
    "df_result['SK_ID_BUREAU'] = index_id_bureau"
   ]
  },
  {
   "cell_type": "markdown",
   "metadata": {},
   "source": [
    "#### Reconstruction du DF sans NaN"
   ]
  },
  {
   "cell_type": "code",
   "execution_count": 18,
   "metadata": {},
   "outputs": [],
   "source": [
    "dt_bureau = pd.merge(dt_bureau, df_result, on = 'SK_ID_BUREAU')"
   ]
  },
  {
   "cell_type": "code",
   "execution_count": 19,
   "metadata": {},
   "outputs": [],
   "source": [
    "for i in range (len(values_save)) :\n",
    "    for j in range (len(values_save[i])) :\n",
    "        dt_bureau[values_save[i][0]] = dt_bureau[values_save[i][0]].replace(j,values_save[i][j])"
   ]
  },
  {
   "cell_type": "code",
   "execution_count": 20,
   "metadata": {},
   "outputs": [
    {
     "data": {
      "text/html": [
       "<div>\n",
       "<style scoped>\n",
       "    .dataframe tbody tr th:only-of-type {\n",
       "        vertical-align: middle;\n",
       "    }\n",
       "\n",
       "    .dataframe tbody tr th {\n",
       "        vertical-align: top;\n",
       "    }\n",
       "\n",
       "    .dataframe thead th {\n",
       "        text-align: right;\n",
       "    }\n",
       "</style>\n",
       "<table border=\"1\" class=\"dataframe\">\n",
       "  <thead>\n",
       "    <tr style=\"text-align: right;\">\n",
       "      <th></th>\n",
       "      <th>SK_ID_CURR</th>\n",
       "      <th>SK_ID_BUREAU</th>\n",
       "      <th>CREDIT_ACTIVE</th>\n",
       "      <th>CNT_CREDIT_PROLONG</th>\n",
       "      <th>AMT_CREDIT_SUM</th>\n",
       "    </tr>\n",
       "  </thead>\n",
       "  <tbody>\n",
       "    <tr>\n",
       "      <th>0</th>\n",
       "      <td>215354</td>\n",
       "      <td>5714462</td>\n",
       "      <td>Closed</td>\n",
       "      <td>0</td>\n",
       "      <td>91323.00</td>\n",
       "    </tr>\n",
       "    <tr>\n",
       "      <th>1</th>\n",
       "      <td>215354</td>\n",
       "      <td>5714463</td>\n",
       "      <td>Active</td>\n",
       "      <td>0</td>\n",
       "      <td>225000.00</td>\n",
       "    </tr>\n",
       "    <tr>\n",
       "      <th>2</th>\n",
       "      <td>215354</td>\n",
       "      <td>5714464</td>\n",
       "      <td>Active</td>\n",
       "      <td>0</td>\n",
       "      <td>464323.50</td>\n",
       "    </tr>\n",
       "    <tr>\n",
       "      <th>3</th>\n",
       "      <td>215354</td>\n",
       "      <td>5714465</td>\n",
       "      <td>Active</td>\n",
       "      <td>0</td>\n",
       "      <td>90000.00</td>\n",
       "    </tr>\n",
       "    <tr>\n",
       "      <th>4</th>\n",
       "      <td>215354</td>\n",
       "      <td>5714466</td>\n",
       "      <td>Active</td>\n",
       "      <td>0</td>\n",
       "      <td>2700000.00</td>\n",
       "    </tr>\n",
       "    <tr>\n",
       "      <th>...</th>\n",
       "      <td>...</td>\n",
       "      <td>...</td>\n",
       "      <td>...</td>\n",
       "      <td>...</td>\n",
       "      <td>...</td>\n",
       "    </tr>\n",
       "    <tr>\n",
       "      <th>1716423</th>\n",
       "      <td>259355</td>\n",
       "      <td>5057750</td>\n",
       "      <td>Active</td>\n",
       "      <td>0</td>\n",
       "      <td>11250.00</td>\n",
       "    </tr>\n",
       "    <tr>\n",
       "      <th>1716424</th>\n",
       "      <td>100044</td>\n",
       "      <td>5057754</td>\n",
       "      <td>Closed</td>\n",
       "      <td>0</td>\n",
       "      <td>38130.84</td>\n",
       "    </tr>\n",
       "    <tr>\n",
       "      <th>1716425</th>\n",
       "      <td>100044</td>\n",
       "      <td>5057762</td>\n",
       "      <td>Closed</td>\n",
       "      <td>0</td>\n",
       "      <td>15570.00</td>\n",
       "    </tr>\n",
       "    <tr>\n",
       "      <th>1716426</th>\n",
       "      <td>246829</td>\n",
       "      <td>5057770</td>\n",
       "      <td>Closed</td>\n",
       "      <td>0</td>\n",
       "      <td>36000.00</td>\n",
       "    </tr>\n",
       "    <tr>\n",
       "      <th>1716427</th>\n",
       "      <td>246829</td>\n",
       "      <td>5057778</td>\n",
       "      <td>Closed</td>\n",
       "      <td>0</td>\n",
       "      <td>22500.00</td>\n",
       "    </tr>\n",
       "  </tbody>\n",
       "</table>\n",
       "<p>1716428 rows × 5 columns</p>\n",
       "</div>"
      ],
      "text/plain": [
       "         SK_ID_CURR  SK_ID_BUREAU CREDIT_ACTIVE  CNT_CREDIT_PROLONG  \\\n",
       "0            215354       5714462        Closed                   0   \n",
       "1            215354       5714463        Active                   0   \n",
       "2            215354       5714464        Active                   0   \n",
       "3            215354       5714465        Active                   0   \n",
       "4            215354       5714466        Active                   0   \n",
       "...             ...           ...           ...                 ...   \n",
       "1716423      259355       5057750        Active                   0   \n",
       "1716424      100044       5057754        Closed                   0   \n",
       "1716425      100044       5057762        Closed                   0   \n",
       "1716426      246829       5057770        Closed                   0   \n",
       "1716427      246829       5057778        Closed                   0   \n",
       "\n",
       "         AMT_CREDIT_SUM  \n",
       "0              91323.00  \n",
       "1             225000.00  \n",
       "2             464323.50  \n",
       "3              90000.00  \n",
       "4            2700000.00  \n",
       "...                 ...  \n",
       "1716423        11250.00  \n",
       "1716424        38130.84  \n",
       "1716425        15570.00  \n",
       "1716426        36000.00  \n",
       "1716427        22500.00  \n",
       "\n",
       "[1716428 rows x 5 columns]"
      ]
     },
     "execution_count": 20,
     "metadata": {},
     "output_type": "execute_result"
    }
   ],
   "source": [
    "dt_bureau"
   ]
  },
  {
   "cell_type": "markdown",
   "metadata": {},
   "source": [
    "## Création de nouvelles colonnes"
   ]
  },
  {
   "cell_type": "markdown",
   "metadata": {},
   "source": [
    "### Totale de la somme crédité avant l'application  ==> TOTAL_AMT_CREDIT"
   ]
  },
  {
   "cell_type": "code",
   "execution_count": 22,
   "metadata": {},
   "outputs": [],
   "source": [
    "credit_total = dt_bureau[['SK_ID_CURR', 'AMT_CREDIT_SUM']]\n",
    "df_somme_credit = credit_total.groupby(credit_total['SK_ID_CURR']).agg({\"AMT_CREDIT_SUM\": \"sum\",})"
   ]
  },
  {
   "cell_type": "markdown",
   "metadata": {},
   "source": [
    "### Création du Data Frame final"
   ]
  },
  {
   "cell_type": "markdown",
   "metadata": {},
   "source": [
    "#### Listing de tous les id uniques de crédits"
   ]
  },
  {
   "cell_type": "code",
   "execution_count": 23,
   "metadata": {},
   "outputs": [],
   "source": [
    "dt_bureau = dt_bureau['SK_ID_CURR']\n",
    "SK_ID_CURR = dt_bureau.unique()\n",
    "final_df = pd.DataFrame({'SK_ID_CURR' : SK_ID_CURR})"
   ]
  },
  {
   "cell_type": "markdown",
   "metadata": {},
   "source": [
    "#### Concaténation des indicateurs précédement calculés"
   ]
  },
  {
   "cell_type": "code",
   "execution_count": 24,
   "metadata": {},
   "outputs": [],
   "source": [
    "final_df = pd.merge(final_df, df_somme_credit, on = 'SK_ID_CURR') # => TOTAL_AMT_CREDIT"
   ]
  },
  {
   "cell_type": "markdown",
   "metadata": {},
   "source": [
    "#### Choix nom des colonnes"
   ]
  },
  {
   "cell_type": "code",
   "execution_count": 25,
   "metadata": {},
   "outputs": [],
   "source": [
    "final_columns = ['SK_ID_CURR', 'TOTAL_AMT_CREDIT']"
   ]
  },
  {
   "cell_type": "markdown",
   "metadata": {},
   "source": [
    "#### Calcul de la solvabilité du créditeur (pourcentage de somme payé sur l'ensemble des sommes empreintées"
   ]
  },
  {
   "cell_type": "code",
   "execution_count": 26,
   "metadata": {},
   "outputs": [],
   "source": [
    "final_df.columns = final_columns"
   ]
  },
  {
   "cell_type": "markdown",
   "metadata": {},
   "source": [
    "## Export du Data Frame final"
   ]
  },
  {
   "cell_type": "code",
   "execution_count": 27,
   "metadata": {},
   "outputs": [
    {
     "data": {
      "text/html": [
       "<div>\n",
       "<style scoped>\n",
       "    .dataframe tbody tr th:only-of-type {\n",
       "        vertical-align: middle;\n",
       "    }\n",
       "\n",
       "    .dataframe tbody tr th {\n",
       "        vertical-align: top;\n",
       "    }\n",
       "\n",
       "    .dataframe thead th {\n",
       "        text-align: right;\n",
       "    }\n",
       "</style>\n",
       "<table border=\"1\" class=\"dataframe\">\n",
       "  <thead>\n",
       "    <tr style=\"text-align: right;\">\n",
       "      <th></th>\n",
       "      <th>SK_ID_CURR</th>\n",
       "      <th>TOTAL_AMT_CREDIT</th>\n",
       "    </tr>\n",
       "  </thead>\n",
       "  <tbody>\n",
       "    <tr>\n",
       "      <th>0</th>\n",
       "      <td>215354</td>\n",
       "      <td>5973945.30</td>\n",
       "    </tr>\n",
       "    <tr>\n",
       "      <th>1</th>\n",
       "      <td>162297</td>\n",
       "      <td>8230386.15</td>\n",
       "    </tr>\n",
       "    <tr>\n",
       "      <th>2</th>\n",
       "      <td>402440</td>\n",
       "      <td>89910.00</td>\n",
       "    </tr>\n",
       "    <tr>\n",
       "      <th>3</th>\n",
       "      <td>238881</td>\n",
       "      <td>1285239.06</td>\n",
       "    </tr>\n",
       "    <tr>\n",
       "      <th>4</th>\n",
       "      <td>222183</td>\n",
       "      <td>7158960.00</td>\n",
       "    </tr>\n",
       "    <tr>\n",
       "      <th>...</th>\n",
       "      <td>...</td>\n",
       "      <td>...</td>\n",
       "    </tr>\n",
       "    <tr>\n",
       "      <th>305806</th>\n",
       "      <td>207190</td>\n",
       "      <td>450000.00</td>\n",
       "    </tr>\n",
       "    <tr>\n",
       "      <th>305807</th>\n",
       "      <td>324956</td>\n",
       "      <td>19800.00</td>\n",
       "    </tr>\n",
       "    <tr>\n",
       "      <th>305808</th>\n",
       "      <td>448157</td>\n",
       "      <td>1800000.00</td>\n",
       "    </tr>\n",
       "    <tr>\n",
       "      <th>305809</th>\n",
       "      <td>345866</td>\n",
       "      <td>175054.50</td>\n",
       "    </tr>\n",
       "    <tr>\n",
       "      <th>305810</th>\n",
       "      <td>235871</td>\n",
       "      <td>101250.00</td>\n",
       "    </tr>\n",
       "  </tbody>\n",
       "</table>\n",
       "<p>305811 rows × 2 columns</p>\n",
       "</div>"
      ],
      "text/plain": [
       "        SK_ID_CURR  TOTAL_AMT_CREDIT\n",
       "0           215354        5973945.30\n",
       "1           162297        8230386.15\n",
       "2           402440          89910.00\n",
       "3           238881        1285239.06\n",
       "4           222183        7158960.00\n",
       "...            ...               ...\n",
       "305806      207190         450000.00\n",
       "305807      324956          19800.00\n",
       "305808      448157        1800000.00\n",
       "305809      345866         175054.50\n",
       "305810      235871         101250.00\n",
       "\n",
       "[305811 rows x 2 columns]"
      ]
     },
     "execution_count": 27,
     "metadata": {},
     "output_type": "execute_result"
    }
   ],
   "source": [
    "final_df"
   ]
  },
  {
   "cell_type": "code",
   "execution_count": 28,
   "metadata": {},
   "outputs": [],
   "source": [
    "final_df.to_csv('Data_Base_Enhanced/bureau_enhanced.csv', index = False)"
   ]
  }
 ],
 "metadata": {
  "kernelspec": {
   "display_name": "Python 3",
   "language": "python",
   "name": "python3"
  },
  "language_info": {
   "codemirror_mode": {
    "name": "ipython",
    "version": 3
   },
   "file_extension": ".py",
   "mimetype": "text/x-python",
   "name": "python",
   "nbconvert_exporter": "python",
   "pygments_lexer": "ipython3",
   "version": "3.8.3"
  }
 },
 "nbformat": 4,
 "nbformat_minor": 4
}
